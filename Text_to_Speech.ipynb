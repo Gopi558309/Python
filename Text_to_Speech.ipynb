{
 "cells": [
  {
   "cell_type": "code",
   "execution_count": 1,
   "id": "33754d66-470d-47d1-935f-530a77b4f973",
   "metadata": {},
   "outputs": [
    {
     "name": "stdout",
     "output_type": "stream",
     "text": [
      "Collecting gTTS\n",
      "  Downloading gTTS-2.5.4-py3-none-any.whl.metadata (4.1 kB)\n",
      "Requirement already satisfied: requests<3,>=2.27 in c:\\users\\gopi\\anaconda3\\lib\\site-packages (from gTTS) (2.32.3)\n",
      "Requirement already satisfied: click<8.2,>=7.1 in c:\\users\\gopi\\anaconda3\\lib\\site-packages (from gTTS) (8.1.7)\n",
      "Requirement already satisfied: colorama in c:\\users\\gopi\\anaconda3\\lib\\site-packages (from click<8.2,>=7.1->gTTS) (0.4.6)\n",
      "Requirement already satisfied: charset-normalizer<4,>=2 in c:\\users\\gopi\\anaconda3\\lib\\site-packages (from requests<3,>=2.27->gTTS) (3.3.2)\n",
      "Requirement already satisfied: idna<4,>=2.5 in c:\\users\\gopi\\anaconda3\\lib\\site-packages (from requests<3,>=2.27->gTTS) (3.7)\n",
      "Requirement already satisfied: urllib3<3,>=1.21.1 in c:\\users\\gopi\\anaconda3\\lib\\site-packages (from requests<3,>=2.27->gTTS) (2.2.3)\n",
      "Requirement already satisfied: certifi>=2017.4.17 in c:\\users\\gopi\\anaconda3\\lib\\site-packages (from requests<3,>=2.27->gTTS) (2024.12.14)\n",
      "Downloading gTTS-2.5.4-py3-none-any.whl (29 kB)\n",
      "Installing collected packages: gTTS\n",
      "Successfully installed gTTS-2.5.4\n"
     ]
    }
   ],
   "source": [
    "!pip install gTTS"
   ]
  },
  {
   "cell_type": "code",
   "execution_count": 3,
   "id": "843bb13a-1111-4563-9fa4-385ab13231ad",
   "metadata": {},
   "outputs": [],
   "source": [
    "from gtts import gTTS\n",
    "convert  = gTTS(text='I like this NLP. How about dude!', lang=\"en\", slow=False)\n",
    "convert.save(\"audio.mp3\")"
   ]
  },
  {
   "cell_type": "code",
   "execution_count": 5,
   "id": "44614a52-fdee-4ffd-97b2-a6225fb368fc",
   "metadata": {},
   "outputs": [
    {
     "name": "stdout",
     "output_type": "stream",
     "text": [
      "Collecting pyttsx3\n",
      "  Downloading pyttsx3-2.98-py3-none-any.whl.metadata (3.8 kB)\n",
      "Collecting comtypes (from pyttsx3)\n",
      "  Downloading comtypes-1.4.10-py3-none-any.whl.metadata (7.2 kB)\n",
      "Collecting pypiwin32 (from pyttsx3)\n",
      "  Downloading pypiwin32-223-py3-none-any.whl.metadata (236 bytes)\n",
      "Requirement already satisfied: pywin32 in c:\\users\\gopi\\anaconda3\\lib\\site-packages (from pyttsx3) (305.1)\n",
      "Downloading pyttsx3-2.98-py3-none-any.whl (34 kB)\n",
      "Downloading comtypes-1.4.10-py3-none-any.whl (241 kB)\n",
      "Downloading pypiwin32-223-py3-none-any.whl (1.7 kB)\n",
      "Installing collected packages: pypiwin32, comtypes, pyttsx3\n",
      "Successfully installed comtypes-1.4.10 pypiwin32-223 pyttsx3-2.98\n"
     ]
    }
   ],
   "source": [
    "!pip3 install pyttsx3"
   ]
  },
  {
   "cell_type": "code",
   "execution_count": 30,
   "id": "894bd860-eeca-40c3-bbb6-935dca200214",
   "metadata": {},
   "outputs": [],
   "source": [
    "import pyttsx3, time\n",
    "engine = pyttsx3.init()\n",
    "engine.say(\"Computer Science is an interesting subject\")\n",
    "engine.runAndWait()"
   ]
  },
  {
   "cell_type": "code",
   "execution_count": null,
   "id": "6aa084f2-0cfa-4d4d-bbf6-c58c860de495",
   "metadata": {},
   "outputs": [],
   "source": [
    "from gtts import gTTS\n",
    "English('en')\n",
    "convert=gTTS(text='I like this NLP. How about dude!', lang=\"en\", slow=False)\n",
    "convert.save(\"audio.mp3\")"
   ]
  },
  {
   "cell_type": "code",
   "execution_count": null,
   "id": "15c1ee96-e49f-4497-9020-bd2fe5c6f68f",
   "metadata": {},
   "outputs": [],
   "source": [
    "text=['This is introduction to NLP','It is likely to be useful, to people ',\\\n",
    "      'Machine learning is the new electrcity','There would be less hype around AI and more action going forward',\\\n",
    "      'python is the best tool!','R is good langauage','I like this book',\\\n",
    "      'I want more books like this']"
   ]
  },
  {
   "cell_type": "code",
   "execution_count": null,
   "id": "4821e80e-3c40-4bc3-9801-ec46c974976c",
   "metadata": {},
   "outputs": [],
   "source": [
    "engine = pyttsx3.init()\n",
    "engine.say(text)\n",
    "engine.runAndWait()"
   ]
  },
  {
   "cell_type": "code",
   "execution_count": 34,
   "id": "13649b35-da23-471d-bf80-a7e24c8998c1",
   "metadata": {},
   "outputs": [
    {
     "name": "stdout",
     "output_type": "stream",
     "text": [
      "200\n",
      "1.0\n"
     ]
    }
   ],
   "source": [
    "import pyttsx3\n",
    "engine = pyttsx3.init() # object creation\n",
    "\"\"\" RATE\"\"\"\n",
    "rate = engine.getProperty('rate')   # getting details of current speaking rate\n",
    "print (rate)                        #printing current voice rate\n",
    "engine.setProperty('rate', 180)     # setting up new voice rate\n",
    "\"\"\"VOLUME\"\"\"\n",
    "volume = engine.getProperty('volume')   #getting to know current volume level (min=0 and max=1)\n",
    "print (volume)                          #printing current volume level\n",
    "engine.setProperty('volume',1.0)    # setting up volume level  between 0 and 1\n",
    "\"\"\"VOICE\"\"\"\n",
    "voices = engine.getProperty('voices')       #getting details of current voice\n",
    "#engine.setProperty('voice', voices[0].id)  #changing index, changes voices. o for male\n",
    "engine.setProperty('voice', voices[1].id)   #changing index, changes voices. 1 for female\n",
    "engine.say(\"Hello World!\")\n",
    "engine.say('My current speaking rate is ' + str(rate))\n",
    "engine.say('My current speaking volume is ' + str(volume))\n",
    "engine.runAndWait()\n",
    "engine.stop()"
   ]
  },
  {
   "cell_type": "code",
   "execution_count": 56,
   "id": "34d8b517-8c1a-4d17-a59c-8c321b4a6bb3",
   "metadata": {},
   "outputs": [
    {
     "name": "stdout",
     "output_type": "stream",
     "text": [
      "Collecting translate\n",
      "  Downloading translate-3.6.1-py2.py3-none-any.whl.metadata (7.7 kB)\n",
      "Requirement already satisfied: click in c:\\users\\gopi\\anaconda3\\lib\\site-packages (from translate) (8.1.7)\n",
      "Requirement already satisfied: lxml in c:\\users\\gopi\\anaconda3\\lib\\site-packages (from translate) (5.2.1)\n",
      "Requirement already satisfied: requests in c:\\users\\gopi\\anaconda3\\lib\\site-packages (from translate) (2.32.3)\n",
      "Collecting libretranslatepy==2.1.1 (from translate)\n",
      "  Downloading libretranslatepy-2.1.1-py3-none-any.whl.metadata (233 bytes)\n",
      "Requirement already satisfied: colorama in c:\\users\\gopi\\anaconda3\\lib\\site-packages (from click->translate) (0.4.6)\n",
      "Requirement already satisfied: charset-normalizer<4,>=2 in c:\\users\\gopi\\anaconda3\\lib\\site-packages (from requests->translate) (3.3.2)\n",
      "Requirement already satisfied: idna<4,>=2.5 in c:\\users\\gopi\\anaconda3\\lib\\site-packages (from requests->translate) (3.7)\n",
      "Requirement already satisfied: urllib3<3,>=1.21.1 in c:\\users\\gopi\\anaconda3\\lib\\site-packages (from requests->translate) (2.2.3)\n",
      "Requirement already satisfied: certifi>=2017.4.17 in c:\\users\\gopi\\anaconda3\\lib\\site-packages (from requests->translate) (2024.12.14)\n",
      "Downloading translate-3.6.1-py2.py3-none-any.whl (12 kB)\n",
      "Downloading libretranslatepy-2.1.1-py3-none-any.whl (3.2 kB)\n",
      "Installing collected packages: libretranslatepy, translate\n",
      "Successfully installed libretranslatepy-2.1.1 translate-3.6.1\n"
     ]
    }
   ],
   "source": [
    "!pip install translate"
   ]
  },
  {
   "cell_type": "code",
   "execution_count": 58,
   "id": "17aec38f-dd6a-422b-8eeb-5ec4690b27c8",
   "metadata": {},
   "outputs": [
    {
     "data": {
      "text/plain": [
       "'كيف حالك؟'"
      ]
     },
     "execution_count": 58,
     "metadata": {},
     "output_type": "execute_result"
    }
   ],
   "source": [
    "from translate import Translator\n",
    "translator = Translator(to_lang=\"ar\")\n",
    "translation = translator.translate(\"How are you?\")\n",
    "translation"
   ]
  },
  {
   "cell_type": "code",
   "execution_count": 60,
   "id": "5f160984-f35b-423b-99e5-3101fb9f9103",
   "metadata": {},
   "outputs": [
    {
     "data": {
      "text/plain": [
       "'உங்கள் மகள் எப்படி இருக்கிறார்?'"
      ]
     },
     "execution_count": 60,
     "metadata": {},
     "output_type": "execute_result"
    }
   ],
   "source": [
    "from translate import Translator\n",
    "translator = Translator(to_lang=\"ta\")\n",
    "translation = translator.translate(\"How are you?\")\n",
    "translation"
   ]
  },
  {
   "cell_type": "code",
   "execution_count": 48,
   "id": "ee11f1f9-b068-41af-ae5a-ef8e385883af",
   "metadata": {},
   "outputs": [
    {
     "name": "stdout",
     "output_type": "stream",
     "text": [
      "Collecting python-vlc\n",
      "  Downloading python_vlc-3.0.21203-py3-none-any.whl.metadata (4.1 kB)\n",
      "Downloading python_vlc-3.0.21203-py3-none-any.whl (87 kB)\n",
      "Installing collected packages: python-vlc\n",
      "Successfully installed python-vlc-3.0.21203\n"
     ]
    }
   ],
   "source": [
    "!pip install python-vlc"
   ]
  },
  {
   "cell_type": "code",
   "execution_count": 1,
   "id": "08cea9c2-2597-43c2-922a-46e152c392b6",
   "metadata": {},
   "outputs": [
    {
     "ename": "FileNotFoundError",
     "evalue": "Could not find module 'C:\\Users\\Gopi\\libvlc.dll' (or one of its dependencies). Try using the full path with constructor syntax.",
     "output_type": "error",
     "traceback": [
      "\u001b[1;31m---------------------------------------------------------------------------\u001b[0m",
      "\u001b[1;31mFileNotFoundError\u001b[0m                         Traceback (most recent call last)",
      "Cell \u001b[1;32mIn[1], line 1\u001b[0m\n\u001b[1;32m----> 1\u001b[0m \u001b[38;5;28;01mimport\u001b[39;00m \u001b[38;5;21;01mvlc\u001b[39;00m\n\u001b[0;32m      2\u001b[0m p \u001b[38;5;241m=\u001b[39m vlc\u001b[38;5;241m.\u001b[39mMedia\u001b[38;5;241m.\u001b[39mPlayer(\u001b[38;5;124m\"\u001b[39m\u001b[38;5;124maudio.mp3\u001b[39m\u001b[38;5;124m\"\u001b[39m)\n\u001b[0;32m      3\u001b[0m p\u001b[38;5;241m.\u001b[39mplay()\n",
      "File \u001b[1;32m~\\anaconda3\\Lib\\site-packages\\vlc.py:197\u001b[0m\n\u001b[0;32m    193\u001b[0m     \u001b[38;5;28;01mreturn\u001b[39;00m (dll, plugin_path)\n\u001b[0;32m    196\u001b[0m \u001b[38;5;66;03m# plugin_path used on win32 and MacOS in override.py\u001b[39;00m\n\u001b[1;32m--> 197\u001b[0m dll, plugin_path \u001b[38;5;241m=\u001b[39m find_lib()\n\u001b[0;32m    200\u001b[0m \u001b[38;5;28;01mclass\u001b[39;00m \u001b[38;5;21;01mVLCException\u001b[39;00m(\u001b[38;5;167;01mException\u001b[39;00m):\n\u001b[0;32m    201\u001b[0m \u001b[38;5;250m    \u001b[39m\u001b[38;5;124;03m\"\"\"Exception raised by libvlc methods.\"\"\"\u001b[39;00m\n",
      "File \u001b[1;32m~\\anaconda3\\Lib\\site-packages\\vlc.py:156\u001b[0m, in \u001b[0;36mfind_lib\u001b[1;34m()\u001b[0m\n\u001b[0;32m    154\u001b[0m         os\u001b[38;5;241m.\u001b[39mchdir(p)\n\u001b[0;32m    155\u001b[0m     \u001b[38;5;28;01melse\u001b[39;00m:  \u001b[38;5;66;03m# may fail\u001b[39;00m\n\u001b[1;32m--> 156\u001b[0m         dll \u001b[38;5;241m=\u001b[39m ctypes\u001b[38;5;241m.\u001b[39mCDLL(\u001b[38;5;124m\"\u001b[39m\u001b[38;5;124m.\u001b[39m\u001b[38;5;130;01m\\\\\u001b[39;00m\u001b[38;5;124m\"\u001b[39m \u001b[38;5;241m+\u001b[39m libname)\n\u001b[0;32m    157\u001b[0m \u001b[38;5;28;01melse\u001b[39;00m:\n\u001b[0;32m    158\u001b[0m     plugin_path \u001b[38;5;241m=\u001b[39m os\u001b[38;5;241m.\u001b[39mpath\u001b[38;5;241m.\u001b[39mdirname(p)\n",
      "File \u001b[1;32m~\\anaconda3\\Lib\\ctypes\\__init__.py:379\u001b[0m, in \u001b[0;36mCDLL.__init__\u001b[1;34m(self, name, mode, handle, use_errno, use_last_error, winmode)\u001b[0m\n\u001b[0;32m    376\u001b[0m \u001b[38;5;28mself\u001b[39m\u001b[38;5;241m.\u001b[39m_FuncPtr \u001b[38;5;241m=\u001b[39m _FuncPtr\n\u001b[0;32m    378\u001b[0m \u001b[38;5;28;01mif\u001b[39;00m handle \u001b[38;5;129;01mis\u001b[39;00m \u001b[38;5;28;01mNone\u001b[39;00m:\n\u001b[1;32m--> 379\u001b[0m     \u001b[38;5;28mself\u001b[39m\u001b[38;5;241m.\u001b[39m_handle \u001b[38;5;241m=\u001b[39m _dlopen(\u001b[38;5;28mself\u001b[39m\u001b[38;5;241m.\u001b[39m_name, mode)\n\u001b[0;32m    380\u001b[0m \u001b[38;5;28;01melse\u001b[39;00m:\n\u001b[0;32m    381\u001b[0m     \u001b[38;5;28mself\u001b[39m\u001b[38;5;241m.\u001b[39m_handle \u001b[38;5;241m=\u001b[39m handle\n",
      "\u001b[1;31mFileNotFoundError\u001b[0m: Could not find module 'C:\\Users\\Gopi\\libvlc.dll' (or one of its dependencies). Try using the full path with constructor syntax."
     ]
    }
   ],
   "source": [
    "import vlc\n",
    "p = vlc.Media.Player(\"audio.mp3\")\n",
    "p.play()"
   ]
  },
  {
   "cell_type": "code",
   "execution_count": 68,
   "id": "0ff81e01-f2b1-423f-bc13-a387346968cd",
   "metadata": {},
   "outputs": [
    {
     "name": "stdout",
     "output_type": "stream",
     "text": [
      "Collecting playsound\n",
      "  Downloading playsound-1.3.0.tar.gz (7.7 kB)\n",
      "  Preparing metadata (setup.py): started\n",
      "  Preparing metadata (setup.py): finished with status 'done'\n",
      "Building wheels for collected packages: playsound\n",
      "  Building wheel for playsound (setup.py): started\n",
      "  Building wheel for playsound (setup.py): finished with status 'done'\n",
      "  Created wheel for playsound: filename=playsound-1.3.0-py3-none-any.whl size=7044 sha256=f45769f6903f760b61bbc874d4d9725d310bb69eb396237de82a6d9f5804beba\n",
      "  Stored in directory: c:\\users\\gopi\\appdata\\local\\pip\\cache\\wheels\\cf\\42\\ff\\7c587bae55eec67b909ca316b250d9b4daedbf272a3cbeb907\n",
      "Successfully built playsound\n",
      "Installing collected packages: playsound\n",
      "Successfully installed playsound-1.3.0\n"
     ]
    }
   ],
   "source": [
    "!pip install playsound"
   ]
  },
  {
   "cell_type": "code",
   "execution_count": 1,
   "id": "b0494a12-09b3-4dc8-a1d7-dd9928a1eaf9",
   "metadata": {},
   "outputs": [
    {
     "name": "stdout",
     "output_type": "stream",
     "text": [
      "playing sound using playsound\n"
     ]
    }
   ],
   "source": [
    "import playsound as pl\n",
    "pl.playsound(\"audio.mp3\")\n",
    "print(\"playing sound using playsound\")"
   ]
  },
  {
   "cell_type": "code",
   "execution_count": 72,
   "id": "dd1c5fb6-aea4-4eed-a652-54ab1ad3f894",
   "metadata": {},
   "outputs": [
    {
     "data": {
      "text/plain": [
       "\u001b[1;31mSignature:\u001b[0m \u001b[0mpl\u001b[0m\u001b[1;33m.\u001b[0m\u001b[0mplaysound\u001b[0m\u001b[1;33m(\u001b[0m\u001b[0msound\u001b[0m\u001b[1;33m,\u001b[0m \u001b[0mblock\u001b[0m\u001b[1;33m=\u001b[0m\u001b[1;32mTrue\u001b[0m\u001b[1;33m)\u001b[0m\u001b[1;33m\u001b[0m\u001b[1;33m\u001b[0m\u001b[0m\n",
       "\u001b[1;31mDocstring:\u001b[0m\n",
       "Utilizes windll.winmm. Tested and known to work with MP3 and WAVE on\n",
       "Windows 7 with Python 2.7. Probably works with more file formats.\n",
       "Probably works on Windows XP thru Windows 10. Probably works with all\n",
       "versions of Python.\n",
       "\n",
       "Inspired by (but not copied from) Michael Gundlach <gundlach@gmail.com>'s mp3play:\n",
       "https://github.com/michaelgundlach/mp3play\n",
       "\n",
       "I never would have tried using windll.winmm without seeing his code.\n",
       "\u001b[1;31mFile:\u001b[0m      c:\\users\\gopi\\anaconda3\\lib\\site-packages\\playsound.py\n",
       "\u001b[1;31mType:\u001b[0m      function"
      ]
     },
     "metadata": {},
     "output_type": "display_data"
    }
   ],
   "source": [
    "import playsound as pl\n",
    "pl.playsound?"
   ]
  },
  {
   "cell_type": "code",
   "execution_count": 5,
   "id": "c49e30a3-f084-4a64-b317-b95d095a29b5",
   "metadata": {},
   "outputs": [
    {
     "name": "stdout",
     "output_type": "stream",
     "text": [
      "Collecting SpeechRecognition\n",
      "  Downloading SpeechRecognition-3.14.1-py3-none-any.whl.metadata (31 kB)\n",
      "Requirement already satisfied: typing-extensions in c:\\users\\gopi\\anaconda3\\lib\\site-packages (from SpeechRecognition) (4.11.0)\n",
      "Downloading SpeechRecognition-3.14.1-py3-none-any.whl (32.9 MB)\n",
      "   ---------------------------------------- 0.0/32.9 MB ? eta -:--:--\n",
      "   ---- ----------------------------------- 3.4/32.9 MB 20.0 MB/s eta 0:00:02\n",
      "   --------- ------------------------------ 7.9/32.9 MB 21.1 MB/s eta 0:00:02\n",
      "   ------------ --------------------------- 10.2/32.9 MB 18.2 MB/s eta 0:00:02\n",
      "   -------------- ------------------------- 11.5/32.9 MB 15.3 MB/s eta 0:00:02\n",
      "   --------------- ------------------------ 12.3/32.9 MB 13.3 MB/s eta 0:00:02\n",
      "   --------------- ------------------------ 12.8/32.9 MB 11.0 MB/s eta 0:00:02\n",
      "   --------------- ------------------------ 13.1/32.9 MB 10.1 MB/s eta 0:00:02\n",
      "   ---------------- ----------------------- 13.4/32.9 MB 9.2 MB/s eta 0:00:03\n",
      "   ---------------- ----------------------- 13.6/32.9 MB 8.2 MB/s eta 0:00:03\n",
      "   ---------------- ----------------------- 13.9/32.9 MB 7.5 MB/s eta 0:00:03\n",
      "   ----------------- ---------------------- 14.2/32.9 MB 6.9 MB/s eta 0:00:03\n",
      "   ----------------- ---------------------- 14.4/32.9 MB 6.3 MB/s eta 0:00:03\n",
      "   ------------------ --------------------- 14.9/32.9 MB 5.7 MB/s eta 0:00:04\n",
      "   ------------------ --------------------- 15.2/32.9 MB 5.3 MB/s eta 0:00:04\n",
      "   ------------------ --------------------- 15.2/32.9 MB 5.3 MB/s eta 0:00:04\n",
      "   ------------------ --------------------- 15.5/32.9 MB 5.0 MB/s eta 0:00:04\n",
      "   ------------------- -------------------- 15.7/32.9 MB 4.7 MB/s eta 0:00:04\n",
      "   ------------------- -------------------- 16.0/32.9 MB 4.4 MB/s eta 0:00:04\n",
      "   ------------------- -------------------- 16.3/32.9 MB 4.1 MB/s eta 0:00:05\n",
      "   ------------------- -------------------- 16.3/32.9 MB 4.1 MB/s eta 0:00:05\n",
      "   -------------------- ------------------- 16.5/32.9 MB 3.9 MB/s eta 0:00:05\n",
      "   -------------------- ------------------- 16.8/32.9 MB 3.7 MB/s eta 0:00:05\n",
      "   -------------------- ------------------- 17.0/32.9 MB 3.6 MB/s eta 0:00:05\n",
      "   --------------------- ------------------ 17.3/32.9 MB 3.5 MB/s eta 0:00:05\n",
      "   --------------------- ------------------ 17.6/32.9 MB 3.4 MB/s eta 0:00:05\n",
      "   ---------------------- ----------------- 18.1/32.9 MB 3.3 MB/s eta 0:00:05\n",
      "   ---------------------- ----------------- 18.4/32.9 MB 3.3 MB/s eta 0:00:05\n",
      "   ---------------------- ----------------- 18.9/32.9 MB 3.3 MB/s eta 0:00:05\n",
      "   ----------------------- ---------------- 19.1/32.9 MB 3.2 MB/s eta 0:00:05\n",
      "   ----------------------- ---------------- 19.4/32.9 MB 3.1 MB/s eta 0:00:05\n",
      "   ----------------------- ---------------- 19.7/32.9 MB 3.1 MB/s eta 0:00:05\n",
      "   ------------------------ --------------- 20.2/32.9 MB 3.0 MB/s eta 0:00:05\n",
      "   ------------------------ --------------- 20.2/32.9 MB 3.0 MB/s eta 0:00:05\n",
      "   ------------------------ --------------- 20.4/32.9 MB 3.0 MB/s eta 0:00:05\n",
      "   ------------------------- -------------- 20.7/32.9 MB 2.9 MB/s eta 0:00:05\n",
      "   ------------------------- -------------- 21.0/32.9 MB 2.9 MB/s eta 0:00:05\n",
      "   ------------------------- -------------- 21.2/32.9 MB 2.8 MB/s eta 0:00:05\n",
      "   -------------------------- ------------- 21.5/32.9 MB 2.7 MB/s eta 0:00:05\n",
      "   -------------------------- ------------- 21.8/32.9 MB 2.7 MB/s eta 0:00:05\n",
      "   -------------------------- ------------- 22.0/32.9 MB 2.6 MB/s eta 0:00:05\n",
      "   --------------------------- ------------ 22.3/32.9 MB 2.6 MB/s eta 0:00:05\n",
      "   --------------------------- ------------ 22.5/32.9 MB 2.6 MB/s eta 0:00:04\n",
      "   ---------------------------- ----------- 23.1/32.9 MB 2.6 MB/s eta 0:00:04\n",
      "   ---------------------------- ----------- 23.3/32.9 MB 2.6 MB/s eta 0:00:04\n",
      "   ----------------------------- ---------- 23.9/32.9 MB 2.5 MB/s eta 0:00:04\n",
      "   ----------------------------- ---------- 24.1/32.9 MB 2.5 MB/s eta 0:00:04\n",
      "   ------------------------------ --------- 24.6/32.9 MB 2.5 MB/s eta 0:00:04\n",
      "   ------------------------------ --------- 25.2/32.9 MB 2.5 MB/s eta 0:00:04\n",
      "   ------------------------------ --------- 25.4/32.9 MB 2.5 MB/s eta 0:00:03\n",
      "   ------------------------------- -------- 26.0/32.9 MB 2.5 MB/s eta 0:00:03\n",
      "   ------------------------------- -------- 26.2/32.9 MB 2.5 MB/s eta 0:00:03\n",
      "   -------------------------------- ------- 26.5/32.9 MB 2.5 MB/s eta 0:00:03\n",
      "   -------------------------------- ------- 26.7/32.9 MB 2.4 MB/s eta 0:00:03\n",
      "   -------------------------------- ------- 27.0/32.9 MB 2.4 MB/s eta 0:00:03\n",
      "   --------------------------------- ------ 27.3/32.9 MB 2.4 MB/s eta 0:00:03\n",
      "   --------------------------------- ------ 27.5/32.9 MB 2.4 MB/s eta 0:00:03\n",
      "   --------------------------------- ------ 27.8/32.9 MB 2.4 MB/s eta 0:00:03\n",
      "   ---------------------------------- ----- 28.3/32.9 MB 2.3 MB/s eta 0:00:02\n",
      "   ---------------------------------- ----- 28.6/32.9 MB 2.3 MB/s eta 0:00:02\n",
      "   ----------------------------------- ---- 28.8/32.9 MB 2.3 MB/s eta 0:00:02\n",
      "   ----------------------------------- ---- 29.4/32.9 MB 2.3 MB/s eta 0:00:02\n",
      "   ------------------------------------ --- 29.9/32.9 MB 2.3 MB/s eta 0:00:02\n",
      "   ------------------------------------- -- 30.4/32.9 MB 2.3 MB/s eta 0:00:02\n",
      "   ------------------------------------- -- 31.2/32.9 MB 2.3 MB/s eta 0:00:01\n",
      "   -------------------------------------- - 31.7/32.9 MB 2.4 MB/s eta 0:00:01\n",
      "   ---------------------------------------  32.5/32.9 MB 2.4 MB/s eta 0:00:01\n",
      "   ---------------------------------------- 32.9/32.9 MB 2.4 MB/s eta 0:00:00\n",
      "Installing collected packages: SpeechRecognition\n",
      "Successfully installed SpeechRecognition-3.14.1\n"
     ]
    }
   ],
   "source": [
    "!pip install SpeechRecognition"
   ]
  },
  {
   "cell_type": "code",
   "execution_count": 7,
   "id": "1a50bf53-750e-4d06-ad82-6502eaa9f726",
   "metadata": {},
   "outputs": [
    {
     "ename": "AttributeError",
     "evalue": "Could not find PyAudio; check installation",
     "output_type": "error",
     "traceback": [
      "\u001b[1;31m---------------------------------------------------------------------------\u001b[0m",
      "\u001b[1;31mModuleNotFoundError\u001b[0m                       Traceback (most recent call last)",
      "File \u001b[1;32m~\\anaconda3\\Lib\\site-packages\\speech_recognition\\__init__.py:103\u001b[0m, in \u001b[0;36mMicrophone.get_pyaudio\u001b[1;34m()\u001b[0m\n\u001b[0;32m    102\u001b[0m \u001b[38;5;28;01mtry\u001b[39;00m:\n\u001b[1;32m--> 103\u001b[0m     \u001b[38;5;28;01mimport\u001b[39;00m \u001b[38;5;21;01mpyaudio\u001b[39;00m\n\u001b[0;32m    104\u001b[0m \u001b[38;5;28;01mexcept\u001b[39;00m \u001b[38;5;167;01mImportError\u001b[39;00m:\n",
      "\u001b[1;31mModuleNotFoundError\u001b[0m: No module named 'pyaudio'",
      "\nDuring handling of the above exception, another exception occurred:\n",
      "\u001b[1;31mAttributeError\u001b[0m                            Traceback (most recent call last)",
      "Cell \u001b[1;32mIn[7], line 3\u001b[0m\n\u001b[0;32m      1\u001b[0m \u001b[38;5;28;01mimport\u001b[39;00m \u001b[38;5;21;01mspeech_recognition\u001b[39;00m \u001b[38;5;28;01mas\u001b[39;00m \u001b[38;5;21;01msr\u001b[39;00m\n\u001b[0;32m      2\u001b[0m r\u001b[38;5;241m=\u001b[39msr\u001b[38;5;241m.\u001b[39mRecognizer()\n\u001b[1;32m----> 3\u001b[0m \u001b[38;5;28;01mwith\u001b[39;00m sr\u001b[38;5;241m.\u001b[39mMicrophone() \u001b[38;5;28;01mas\u001b[39;00m source:\n\u001b[0;32m      4\u001b[0m     \u001b[38;5;28mprint\u001b[39m(\u001b[38;5;124m\"\u001b[39m\u001b[38;5;124mPlease say something\u001b[39m\u001b[38;5;124m\"\u001b[39m)\n\u001b[0;32m      5\u001b[0m     audio \u001b[38;5;241m=\u001b[39m r\u001b[38;5;241m.\u001b[39mlisten(source)\n",
      "File \u001b[1;32m~\\anaconda3\\Lib\\site-packages\\speech_recognition\\__init__.py:75\u001b[0m, in \u001b[0;36mMicrophone.__init__\u001b[1;34m(self, device_index, sample_rate, chunk_size)\u001b[0m\n\u001b[0;32m     72\u001b[0m \u001b[38;5;28;01massert\u001b[39;00m \u001b[38;5;28misinstance\u001b[39m(chunk_size, \u001b[38;5;28mint\u001b[39m) \u001b[38;5;129;01mand\u001b[39;00m chunk_size \u001b[38;5;241m>\u001b[39m \u001b[38;5;241m0\u001b[39m, \u001b[38;5;124m\"\u001b[39m\u001b[38;5;124mChunk size must be a positive integer\u001b[39m\u001b[38;5;124m\"\u001b[39m\n\u001b[0;32m     74\u001b[0m \u001b[38;5;66;03m# set up PyAudio\u001b[39;00m\n\u001b[1;32m---> 75\u001b[0m \u001b[38;5;28mself\u001b[39m\u001b[38;5;241m.\u001b[39mpyaudio_module \u001b[38;5;241m=\u001b[39m \u001b[38;5;28mself\u001b[39m\u001b[38;5;241m.\u001b[39mget_pyaudio()\n\u001b[0;32m     76\u001b[0m audio \u001b[38;5;241m=\u001b[39m \u001b[38;5;28mself\u001b[39m\u001b[38;5;241m.\u001b[39mpyaudio_module\u001b[38;5;241m.\u001b[39mPyAudio()\n\u001b[0;32m     77\u001b[0m \u001b[38;5;28;01mtry\u001b[39;00m:\n",
      "File \u001b[1;32m~\\anaconda3\\Lib\\site-packages\\speech_recognition\\__init__.py:105\u001b[0m, in \u001b[0;36mMicrophone.get_pyaudio\u001b[1;34m()\u001b[0m\n\u001b[0;32m    103\u001b[0m     \u001b[38;5;28;01mimport\u001b[39;00m \u001b[38;5;21;01mpyaudio\u001b[39;00m\n\u001b[0;32m    104\u001b[0m \u001b[38;5;28;01mexcept\u001b[39;00m \u001b[38;5;167;01mImportError\u001b[39;00m:\n\u001b[1;32m--> 105\u001b[0m     \u001b[38;5;28;01mraise\u001b[39;00m \u001b[38;5;167;01mAttributeError\u001b[39;00m(\u001b[38;5;124m\"\u001b[39m\u001b[38;5;124mCould not find PyAudio; check installation\u001b[39m\u001b[38;5;124m\"\u001b[39m)\n\u001b[0;32m    106\u001b[0m \u001b[38;5;28;01mreturn\u001b[39;00m pyaudio\n",
      "\u001b[1;31mAttributeError\u001b[0m: Could not find PyAudio; check installation"
     ]
    }
   ],
   "source": [
    "import speech_recognition as sr\n",
    "r=sr.Recognizer()\n",
    "with sr.Microphone() as source:\n",
    "    print(\"Please say something\")\n",
    "    audio = r.listen(source)\n",
    "try:\n",
    "    print(\"I think you said:\"+r.recognize_google(audio));\n",
    "except:\n",
    "    pass"
   ]
  },
  {
   "cell_type": "code",
   "execution_count": null,
   "id": "42a0b456-16c1-41ba-9fce-8b0b363ce6c0",
   "metadata": {},
   "outputs": [],
   "source": []
  }
 ],
 "metadata": {
  "kernelspec": {
   "display_name": "Python [conda env:base] *",
   "language": "python",
   "name": "conda-base-py"
  },
  "language_info": {
   "codemirror_mode": {
    "name": "ipython",
    "version": 3
   },
   "file_extension": ".py",
   "mimetype": "text/x-python",
   "name": "python",
   "nbconvert_exporter": "python",
   "pygments_lexer": "ipython3",
   "version": "3.12.7"
  }
 },
 "nbformat": 4,
 "nbformat_minor": 5
}
