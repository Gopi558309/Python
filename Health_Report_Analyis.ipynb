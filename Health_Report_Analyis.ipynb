{
  "nbformat": 4,
  "nbformat_minor": 0,
  "metadata": {
    "colab": {
      "provenance": [],
      "authorship_tag": "ABX9TyMG6M9B3qqkpjw5FoYerxi5",
      "include_colab_link": true
    },
    "kernelspec": {
      "name": "python3",
      "display_name": "Python 3"
    },
    "language_info": {
      "name": "python"
    }
  },
  "cells": [
    {
      "cell_type": "markdown",
      "metadata": {
        "id": "view-in-github",
        "colab_type": "text"
      },
      "source": [
        "<a href=\"https://colab.research.google.com/github/Gopi558309/Python/blob/main/Health_Report_Analyis.ipynb\" target=\"_parent\"><img src=\"https://colab.research.google.com/assets/colab-badge.svg\" alt=\"Open In Colab\"/></a>"
      ]
    },
    {
      "cell_type": "code",
      "execution_count": 1,
      "metadata": {
        "id": "xA7lq7Ox-cLV"
      },
      "outputs": [],
      "source": [
        "import google.generativeai as genai\n",
        "from google.colab import userdata\n",
        "GOOGLE_API_KEY=userdata.get('GOOGLE_API_KEY')\n",
        "genai.configure(api_key=GOOGLE_API_KEY)"
      ]
    },
    {
      "cell_type": "code",
      "source": [
        "pip install PyPDF2"
      ],
      "metadata": {
        "colab": {
          "base_uri": "https://localhost:8080/"
        },
        "id": "TPA-yBH5-7R-",
        "outputId": "aa43f73b-9e5b-4e8c-a063-ee8fc10e241b"
      },
      "execution_count": 2,
      "outputs": [
        {
          "output_type": "stream",
          "name": "stdout",
          "text": [
            "Collecting PyPDF2\n",
            "  Downloading pypdf2-3.0.1-py3-none-any.whl.metadata (6.8 kB)\n",
            "Downloading pypdf2-3.0.1-py3-none-any.whl (232 kB)\n",
            "\u001b[2K   \u001b[90m━━━━━━━━━━━━━━━━━━━━━━━━━━━━━━━━━━━━━━━━\u001b[0m \u001b[32m232.6/232.6 kB\u001b[0m \u001b[31m3.8 MB/s\u001b[0m eta \u001b[36m0:00:00\u001b[0m\n",
            "\u001b[?25hInstalling collected packages: PyPDF2\n",
            "Successfully installed PyPDF2-3.0.1\n"
          ]
        }
      ]
    },
    {
      "cell_type": "code",
      "source": [
        "import PyPDF2\n",
        "\n",
        "def extract_text_from_pdf(pdf_path):\n",
        "\n",
        "    \"\"\"Extracts text from a given health report PDF using PyPDF2.\"\"\"\n",
        "\n",
        "    text = \"\"\n",
        "\n",
        "    with open(pdf_path, \"rb\") as file:\n",
        "\n",
        "        reader = PyPDF2.PdfReader(file)\n",
        "\n",
        "        for page in reader.pages:\n",
        "\n",
        "            text += page.extract_text() + \"\\n\"\n",
        "\n",
        "    return text"
      ],
      "metadata": {
        "id": "ow2LjPZuBurH"
      },
      "execution_count": 6,
      "outputs": []
    },
    {
      "cell_type": "code",
      "source": [
        "def extract_health_insights(text):\n",
        "  model = genai.GenerativeModel(\"gemini-1.5-flash\")\n",
        "  prompt = f\"Extract key insights from the following health report:\\n\\n{text}\"\n",
        "  response = model.generate_content(prompt)\n",
        "  return response.text\n",
        "pdf_file = \"health_report.pdf\"\n",
        "extracted_text = extract_text_from_pdf(pdf_file)\n",
        "insights = extract_health_insights(extracted_text)\n",
        "print(\"Key Insights:\\n\", insights)"
      ],
      "metadata": {
        "colab": {
          "base_uri": "https://localhost:8080/",
          "height": 488
        },
        "id": "vXaUEy7dBUvu",
        "outputId": "f226244f-f75d-4e68-f1c9-a1f46144033e"
      },
      "execution_count": 7,
      "outputs": [
        {
          "output_type": "stream",
          "name": "stdout",
          "text": [
            "Key Insights:\n",
            " Mr. Kishan Goud's (MR2100003157) health report from February 1st, 2021, reveals the following key insights:\n",
            "\n",
            "**Infections:**\n",
            "\n",
            "* **Widal Test:** Elevated titers for *Salmonella Typhi* \"O\" (1:160) and \"H\" (1:80) suggest a possible past or present typhoid infection.  The reference range is significantly lower (1:20).  Paratyphoid A and B titers were within the normal range.\n",
            "* **Dengue:**  Negative results for Dengue NS1 antigen, IgG, and IgM antibodies indicate no current or recent dengue fever infection.\n",
            "* **Malaria:** Rapid Malaria tests for *Plasmodium vivax* and *Plasmodium falciparum* were both negative.\n",
            "\n",
            "**Hematology:**\n",
            "\n",
            "* **Complete Blood Picture (CBP):**  All values (Hemoglobin, RBC, WBC, Platelets, PCV) are within normal limits except for slightly elevated ESR (26 mm/hr in the first hour, 52 mm/hr in the second hour), suggesting possible inflammation or infection. Differential counts are also within normal ranges.\n",
            "* **HbA1c:**  5.4%, indicating good blood sugar control within the normal non-diabetic range (4-6%).\n",
            "\n",
            "**Biochemistry:**\n",
            "\n",
            "* **Liver Function Test (LFT):**  All liver function parameters (bilirubin – total, direct, indirect, alkaline phosphatase, SGOT, SGPT, total protein, albumin, globulin, A/G ratio) are within normal ranges.\n",
            "* **Serum Electrolytes:**  Sodium (122 mmol/l) is slightly low (reference range 135-146 mmol/l), while potassium and chloride are within normal ranges.\n",
            "* **Serum Creatinine:** Within the normal range (0.8 mg/dl).\n",
            "* **Random Blood Glucose:** Within the normal range.\n",
            "\n",
            "\n",
            "**Overall:**\n",
            "\n",
            "While the elevated *Salmonella Typhi* titers suggest a possible typhoid infection (past or present), the absence of other significant abnormalities in the blood count, liver function tests, and other infection markers, indicates the patient might have recovered or is in early stages of an infection. The slightly low sodium level warrants further investigation. The elevated ESR suggests ongoing inflammation, possibly related to the *Salmonella Typhi* antibodies.  Further clinical evaluation by Dr. Krishna Prasad is necessary to determine the significance of these findings and establish a definitive diagnosis and treatment plan.\n",
            "\n"
          ]
        }
      ]
    },
    {
      "cell_type": "code",
      "source": [
        "def summarize_health_report(text):\n",
        "  model = genai.GenerativeModel(\"gemini-1.5-flash\")\n",
        "  prompt = f\"Summarize the following health report in a concise manner:\\n\\n{text}\"\n",
        "  response = model.generate_content(prompt)\n",
        "  return response.text\n",
        "summary = summarize_health_report(extracted_text)\n",
        "print(\"Summary:\\n\", summary)"
      ],
      "metadata": {
        "colab": {
          "base_uri": "https://localhost:8080/",
          "height": 315
        },
        "id": "_vl2nfOeDvP3",
        "outputId": "02671b83-d1d7-4082-8f73-615e84b0ecd8"
      },
      "execution_count": 8,
      "outputs": [
        {
          "output_type": "stream",
          "name": "stdout",
          "text": [
            "Summary:\n",
            " Mr. Kishan Goud's (MR2100003157) blood tests on 01/02/2021 showed:\n",
            "\n",
            "* **Widal Test:** Elevated titers for *Salmonella Typhi* \"O\" (1:160) and \"H\" (1:80), suggesting possible typhoid.  *Salmonella Paratyphi* \"AH\" and \"BH\" were within normal range.\n",
            "* **Dengue Serology:** Negative for NS1 antigen, IgG, and IgM.\n",
            "* **ESR:** Elevated (26 mm/hr in the first hour, 52 mm/hr in the second hour), indicating inflammation.\n",
            "* **Malaria Test:** Negative for both *Plasmodium falciparum* and *Plasmodium vivax*.\n",
            "* **Complete Blood Picture:**  Hemoglobin, RBC, WBC, platelets, and PCV within normal ranges. Differential count also within normal limits.\n",
            "* **HbA1c:** 5.4% (within normal non-diabetic range).\n",
            "* **Serum Creatinine:** 0.8 mg/dl (within normal range).\n",
            "* **Random Blood Glucose:**  Not provided in the summary.\n",
            "* **Liver Function Test:** All values within normal ranges.\n",
            "* **Serum Electrolytes:** Sodium (122 mmol/l) slightly below the normal range; potassium and chloride within normal ranges.\n",
            "\n",
            "Overall, the results suggest possible typhoid infection based on the Widal test,  and inflammation indicated by the elevated ESR.  Other infectious disease tests were negative.  The blood picture and liver function test results are unremarkable.  Electrolytes show a mildly low sodium.\n",
            "\n"
          ]
        }
      ]
    },
    {
      "cell_type": "code",
      "source": [
        "def detect_abnormalities(text):\n",
        "  model = genai.GenerativeModel(\"gemini-1.5-flash\")\n",
        "  prompt = f\"Analyze the lab test results in the following health report and highlight any abnormal values:\\n\\n{text}\"\n",
        "  response = model.generate_content(prompt)\n",
        "  return response.text\n",
        "abnormalities = detect_abnormalities(extracted_text)\n",
        "print(\"Potential Abnormalities:\\n\", abnormalities)"
      ],
      "metadata": {
        "colab": {
          "base_uri": "https://localhost:8080/",
          "height": 332
        },
        "id": "rbnBPPQrGeXj",
        "outputId": "d63afe62-ae78-4ebc-ee1a-d03eeaa2008d"
      },
      "execution_count": 9,
      "outputs": [
        {
          "output_type": "stream",
          "name": "stdout",
          "text": [
            "Potential Abnormalities:\n",
            " Based on the provided lab results, the following values are outside the reference ranges, indicating potential abnormalities:\n",
            "\n",
            "* **Widal Test:**  S. Typhi \"O\" (1:160) and S. Typhi \"H\" (1:80) are significantly higher than the reference range of 1:20. This strongly suggests a past or current infection with *Salmonella Typhi*, the causative agent of typhoid fever.  The higher \"O\" titer suggests a more recent infection than the \"H\" titer.\n",
            "\n",
            "* **ESR (Erythrocyte Sedimentation Rate):**  Both the 1st hour (26 mm/hr) and 2nd hour (52 mm/hr) values are significantly elevated above the reference range (0-8 mm/hr for the first hour).  This indicates inflammation in the body.  The cause needs further investigation.\n",
            "\n",
            "* **Serum Sodium:** 122 mmol/l is below the reference range of 135-146 mmol/l. This is considered hyponatremia (low sodium levels in the blood), which can have various underlying causes.\n",
            "\n",
            "* **Serum Chloride:** 97 mmol/l is below the reference range of 98-107 mmol/l.  This is mild hypochloremia (low chloride levels) and is often associated with other electrolyte imbalances, such as hyponatremia.\n",
            "\n",
            "**Other values are within the normal range or only slightly outside, but warrant consideration within the context of the other abnormal results:**\n",
            "\n",
            "* **Lymphocytes:** 31% is at the higher end of the normal range (20-40%). While not overtly abnormal, it can be a reflection of an ongoing infection.\n",
            "\n",
            "**Important Note:** This analysis is for informational purposes only.  It is crucial to consult with a physician or healthcare professional for proper interpretation of these results and diagnosis.  The abnormal values suggest potential serious health issues requiring further investigation and medical management. The high Widal test and elevated ESR, in particular, are cause for concern.\n",
            "\n"
          ]
        }
      ]
    },
    {
      "cell_type": "code",
      "source": [
        "def explain_medical_terms(text):\n",
        "  model = genai.GenerativeModel(\"gemini-1.5-flash\")\n",
        "  prompt = f\"Explain the medical terms in the following health report in simple language:\\n\\n{text}\"\n",
        "  response = model.generate_content(prompt)\n",
        "  return response.text\n",
        "summary = explain_medical_terms(extracted_text)\n",
        "print(\"Simplified Explanation:\\n\", summary)"
      ],
      "metadata": {
        "colab": {
          "base_uri": "https://localhost:8080/",
          "height": 940
        },
        "id": "GCscu1XKH9nX",
        "outputId": "92cf5c99-fb08-4e18-f8a9-b4bf87cce810"
      },
      "execution_count": 12,
      "outputs": [
        {
          "output_type": "stream",
          "name": "stdout",
          "text": [
            "Simplified Explanation:\n",
            " This report shows the results of various blood tests performed on Mr. Kishan Goud. Let's break down each section:\n",
            "\n",
            "**1. WIDAL Test:** This test checks for antibodies against *Salmonella typhi* and *Salmonella paratyphi*, bacteria that cause typhoid fever and paratyphoid fever.  The numbers (e.g., 1:160) represent the dilution of the sample at which antibodies are still detectable.  Higher numbers indicate a stronger antibody response, suggesting a possible past or present infection.  In this case:\n",
            "\n",
            "* **S. Typhi \"O\" 1:160:**  A relatively high titre suggesting possible past or present typhoid infection.\n",
            "* **S. Typhi \"H\" 1:80:** Also suggests possible past or present typhoid infection, but less strongly than the \"O\" result.\n",
            "* **S. Paratyphi \"AH\" 1:20:** Within the normal range, suggesting no evidence of paratyphoid AH infection.\n",
            "* **S. Paratyphi \"BH\" 1:20:** Within the normal range, suggesting no evidence of paratyphoid BH infection.\n",
            "\n",
            "\n",
            "**2. Dengue Serology:** This test screens for dengue fever.  The results are all negative, meaning no evidence of a current or recent dengue infection was detected.\n",
            "\n",
            "* **Dengue NS1 Antigen:**  A protein produced by the dengue virus. Negative means no active infection.\n",
            "* **Dengue IgG:** Antibodies that indicate past exposure to the dengue virus. Negative means no past infection detected.\n",
            "* **Dengue IgM:** Antibodies that indicate a recent dengue infection. Negative means no recent infection detected.\n",
            "\n",
            "\n",
            "**3. Erythrocyte Sedimentation Rate (ESR):** This test measures how quickly red blood cells settle in a tube. A faster sedimentation rate (higher ESR) can indicate inflammation in the body.  Mr. Goud's ESR is elevated (26 mm/hr in the first hour and 52 mm/hr in the second hour), suggesting the presence of inflammation.  Further investigation would be needed to determine the cause.\n",
            "\n",
            "\n",
            "**4. Rapid Malaria Test:**  This test checks for malaria parasites in the blood.  Both *Plasmodium vivax* (P.V.) and *Plasmodium falciparum* (P.F.) tests are negative, meaning no malaria parasites were detected.\n",
            "\n",
            "\n",
            "**5. Complete Blood Picture (CBC):** This is a comprehensive test that provides information about different components of the blood.\n",
            "\n",
            "* **Hemoglobin (Hb):** 13.6 g/dL (within the normal range). This measures the oxygen-carrying capacity of the blood.\n",
            "* **Red Blood Cells (RBC):** 4.3 million/cumm (slightly below the normal range, but might be within normal individual variation).  These carry oxygen.\n",
            "* **White Blood Cells (WBC):** 7,200 cells/cumm (within the normal range). These fight infection.\n",
            "* **Platelets:** 2.0 lakhs/cumm (within the normal range). These help with blood clotting.\n",
            "* **Packed Cell Volume (PCV):** 40.5% (within the normal range). This indicates the percentage of red blood cells in the blood.\n",
            "* **Differential Count:** This breaks down the types of white blood cells. All are within normal ranges.\n",
            "* **Peripheral Blood Smear:** A microscopic examination of the blood; findings are normal.\n",
            "\n",
            "\n",
            "**6. HbA1c:** This test measures average blood sugar levels over the past 2-3 months.  Mr. Goud's result is 5.4%, which falls within the normal non-diabetic range, indicating good blood sugar control.\n",
            "\n",
            "\n",
            "**7. Serum Creatinine:** This test measures creatinine, a waste product from muscle breakdown, which helps assess kidney function.  Mr. Goud's level is 0.8 mg/dL (within the normal range), indicating normal kidney function.\n",
            "\n",
            "\n",
            "**8. Random Blood Glucose:** This measures blood sugar at a random time.  The result is not provided in the report. However, the range is given as 60-170 mg/dL.\n",
            "\n",
            "\n",
            "**9. Liver Function Test (LFT):** These tests assess the health of the liver.  All results are within the normal range, indicating normal liver function.  Note that values are given for total bilirubin, direct bilirubin, indirect bilirubin, alkaline phosphatase, SGOT (AST), SGPT (ALT), total protein, albumin, globulin, and A/G ratio (albumin to globulin ratio).\n",
            "\n",
            "\n",
            "**10. Serum Electrolytes:** These tests measure the levels of sodium, potassium, and chloride in the blood, which are important for fluid balance and nerve function. Mr. Goud's sodium is slightly low (122 mmol/L), while potassium and chloride are within normal ranges.  Low sodium warrants further evaluation.\n",
            "\n",
            "\n",
            "**In summary:** While some results suggest possible past typhoid infection and inflammation (elevated ESR), most of Mr. Kishan Goud's blood test results are within the normal ranges.  The slightly low sodium level requires further attention from his physician.  The doctor should interpret these results in the context of Mr. Goud's symptoms and medical history to determine the appropriate diagnosis and treatment plan.  This explanation is for informational purposes only and does not constitute medical advice.\n",
            "\n"
          ]
        }
      ]
    },
    {
      "cell_type": "code",
      "source": [
        "def ask_gemini_about_report(text):\n",
        "  model = genai.GenerativeModel(\"gemini-1.5-flash\")\n",
        "  prompt = f\"The folloeing is a helath report:\\n\\n{text}\\n\\nAnswer the following question based on the report:\"\n",
        "  response = model.generate_content(prompt)\n",
        "  return response.text\n",
        "summary = explain_medical_terms(extracted_text)\n",
        "print(\"Simplified Explanation:\\n\", summary) # Changed 'Explanation' to 'summary'"
      ],
      "metadata": {
        "id": "nEG6qOI7Jhl7"
      },
      "execution_count": null,
      "outputs": []
    }
  ]
}